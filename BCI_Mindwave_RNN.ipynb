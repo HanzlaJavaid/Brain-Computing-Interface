{
  "nbformat": 4,
  "nbformat_minor": 0,
  "metadata": {
    "colab": {
      "name": "BCI_Mindwave_RNN.ipynb",
      "provenance": [],
      "toc_visible": true,
      "authorship_tag": "ABX9TyOIyppIFf4SkLnD7RXz+h4B",
      "include_colab_link": true
    },
    "kernelspec": {
      "name": "python3",
      "display_name": "Python 3"
    },
    "language_info": {
      "name": "python"
    },
    "accelerator": "GPU"
  },
  "cells": [
    {
      "cell_type": "markdown",
      "metadata": {
        "id": "view-in-github",
        "colab_type": "text"
      },
      "source": [
        "<a href=\"https://colab.research.google.com/github/HanzlaJavaid/Brain-Computing-Interface/blob/main/BCI_Mindwave_RNN.ipynb\" target=\"_parent\"><img src=\"https://colab.research.google.com/assets/colab-badge.svg\" alt=\"Open In Colab\"/></a>"
      ]
    },
    {
      "cell_type": "code",
      "metadata": {
        "id": "djQ9g1BSpj4w"
      },
      "source": [
        "import tensorflow as tf\n",
        "from sklearn.model_selection import train_test_split\n",
        "from sklearn.preprocessing import StandardScaler,MinMaxScaler\n",
        "import pandas as pd\n",
        "import numpy as np\n",
        "from tensorflow.keras.models import Sequential\n",
        "from tensorflow.keras.layers import LSTM,Dropout,Dense,BatchNormalization\n",
        "import keras.datasets as dfs"
      ],
      "execution_count": 1,
      "outputs": []
    },
    {
      "cell_type": "code",
      "metadata": {
        "colab": {
          "base_uri": "https://localhost:8080/"
        },
        "id": "5evfmHqrprjm",
        "outputId": "d87a66ef-231b-48ce-85d2-ba7e759f38e3"
      },
      "source": [
        "from google.colab import drive\n",
        "drive.mount('/content/drive')"
      ],
      "execution_count": 2,
      "outputs": [
        {
          "output_type": "stream",
          "name": "stdout",
          "text": [
            "Mounted at /content/drive\n"
          ]
        }
      ]
    },
    {
      "cell_type": "code",
      "metadata": {
        "colab": {
          "base_uri": "https://localhost:8080/",
          "height": 224
        },
        "id": "47HYf8vzp15K",
        "outputId": "08a7206e-28a0-4def-9ed9-f18cd363a512"
      },
      "source": [
        "df = pd.read_csv(\"/content/drive/MyDrive/tutorial_tea2.csv\")\n",
        "df = df.iloc[:,1:]\n",
        "df.head()"
      ],
      "execution_count": 3,
      "outputs": [
        {
          "output_type": "execute_result",
          "data": {
            "text/html": [
              "<div>\n",
              "<style scoped>\n",
              "    .dataframe tbody tr th:only-of-type {\n",
              "        vertical-align: middle;\n",
              "    }\n",
              "\n",
              "    .dataframe tbody tr th {\n",
              "        vertical-align: top;\n",
              "    }\n",
              "\n",
              "    .dataframe thead th {\n",
              "        text-align: right;\n",
              "    }\n",
              "</style>\n",
              "<table border=\"1\" class=\"dataframe\">\n",
              "  <thead>\n",
              "    <tr style=\"text-align: right;\">\n",
              "      <th></th>\n",
              "      <th>0</th>\n",
              "      <th>1</th>\n",
              "      <th>2</th>\n",
              "      <th>3</th>\n",
              "      <th>4</th>\n",
              "      <th>5</th>\n",
              "      <th>6</th>\n",
              "      <th>7</th>\n",
              "      <th>8</th>\n",
              "      <th>9</th>\n",
              "      <th>10</th>\n",
              "      <th>11</th>\n",
              "      <th>12</th>\n",
              "      <th>13</th>\n",
              "      <th>14</th>\n",
              "      <th>15</th>\n",
              "      <th>16</th>\n",
              "      <th>17</th>\n",
              "      <th>18</th>\n",
              "      <th>19</th>\n",
              "      <th>20</th>\n",
              "      <th>21</th>\n",
              "      <th>22</th>\n",
              "      <th>23</th>\n",
              "      <th>24</th>\n",
              "      <th>25</th>\n",
              "      <th>26</th>\n",
              "      <th>27</th>\n",
              "      <th>28</th>\n",
              "      <th>29</th>\n",
              "      <th>30</th>\n",
              "      <th>31</th>\n",
              "      <th>32</th>\n",
              "      <th>33</th>\n",
              "      <th>34</th>\n",
              "      <th>35</th>\n",
              "      <th>36</th>\n",
              "      <th>37</th>\n",
              "      <th>38</th>\n",
              "      <th>39</th>\n",
              "      <th>40</th>\n",
              "      <th>41</th>\n",
              "      <th>42</th>\n",
              "      <th>43</th>\n",
              "      <th>44</th>\n",
              "      <th>45</th>\n",
              "      <th>46</th>\n",
              "      <th>47</th>\n",
              "      <th>48</th>\n",
              "      <th>49</th>\n",
              "      <th>50</th>\n",
              "    </tr>\n",
              "  </thead>\n",
              "  <tbody>\n",
              "    <tr>\n",
              "      <th>0</th>\n",
              "      <td>9590.0</td>\n",
              "      <td>11.300536</td>\n",
              "      <td>16.828072</td>\n",
              "      <td>1.400612</td>\n",
              "      <td>1.634333</td>\n",
              "      <td>2.411865</td>\n",
              "      <td>5.170004</td>\n",
              "      <td>8.554547</td>\n",
              "      <td>4.118052</td>\n",
              "      <td>1.826552</td>\n",
              "      <td>5.698843</td>\n",
              "      <td>9.336993</td>\n",
              "      <td>10.632069</td>\n",
              "      <td>5.384311</td>\n",
              "      <td>5.889308</td>\n",
              "      <td>0.442510</td>\n",
              "      <td>2.404258</td>\n",
              "      <td>2.830158</td>\n",
              "      <td>10.488135</td>\n",
              "      <td>2.441550</td>\n",
              "      <td>2.577034</td>\n",
              "      <td>7.289679</td>\n",
              "      <td>6.579761</td>\n",
              "      <td>8.268516</td>\n",
              "      <td>12.163783</td>\n",
              "      <td>3.236068</td>\n",
              "      <td>4.618484</td>\n",
              "      <td>1.437328</td>\n",
              "      <td>2.434311</td>\n",
              "      <td>3.138683</td>\n",
              "      <td>4.411696</td>\n",
              "      <td>4.938875</td>\n",
              "      <td>5.738091</td>\n",
              "      <td>13.700829</td>\n",
              "      <td>8.716755</td>\n",
              "      <td>5.261370</td>\n",
              "      <td>1.573790</td>\n",
              "      <td>8.751183</td>\n",
              "      <td>0.692568</td>\n",
              "      <td>1.794926</td>\n",
              "      <td>0.520871</td>\n",
              "      <td>0.520564</td>\n",
              "      <td>7.017794</td>\n",
              "      <td>0.516539</td>\n",
              "      <td>8.201628</td>\n",
              "      <td>10.556871</td>\n",
              "      <td>6.020826</td>\n",
              "      <td>5.320554</td>\n",
              "      <td>0.162637</td>\n",
              "      <td>0.812393</td>\n",
              "      <td>0.0</td>\n",
              "    </tr>\n",
              "    <tr>\n",
              "      <th>1</th>\n",
              "      <td>9504.0</td>\n",
              "      <td>186.547966</td>\n",
              "      <td>48.161608</td>\n",
              "      <td>47.643909</td>\n",
              "      <td>29.981965</td>\n",
              "      <td>6.923306</td>\n",
              "      <td>9.515621</td>\n",
              "      <td>15.141497</td>\n",
              "      <td>6.182643</td>\n",
              "      <td>6.023226</td>\n",
              "      <td>0.594818</td>\n",
              "      <td>5.594211</td>\n",
              "      <td>21.384321</td>\n",
              "      <td>15.081472</td>\n",
              "      <td>8.579979</td>\n",
              "      <td>9.557710</td>\n",
              "      <td>8.350403</td>\n",
              "      <td>21.667410</td>\n",
              "      <td>20.552948</td>\n",
              "      <td>33.842606</td>\n",
              "      <td>16.407768</td>\n",
              "      <td>12.787555</td>\n",
              "      <td>19.026249</td>\n",
              "      <td>2.033633</td>\n",
              "      <td>13.964163</td>\n",
              "      <td>4.236068</td>\n",
              "      <td>5.838238</td>\n",
              "      <td>14.308867</td>\n",
              "      <td>6.700240</td>\n",
              "      <td>1.783596</td>\n",
              "      <td>6.062528</td>\n",
              "      <td>15.723982</td>\n",
              "      <td>5.414117</td>\n",
              "      <td>0.416556</td>\n",
              "      <td>8.461486</td>\n",
              "      <td>0.988839</td>\n",
              "      <td>8.975479</td>\n",
              "      <td>0.210953</td>\n",
              "      <td>11.907894</td>\n",
              "      <td>7.179679</td>\n",
              "      <td>12.635933</td>\n",
              "      <td>7.604407</td>\n",
              "      <td>1.819345</td>\n",
              "      <td>2.017215</td>\n",
              "      <td>2.458946</td>\n",
              "      <td>4.872544</td>\n",
              "      <td>6.194032</td>\n",
              "      <td>0.316579</td>\n",
              "      <td>9.416109</td>\n",
              "      <td>0.562300</td>\n",
              "      <td>0.0</td>\n",
              "    </tr>\n",
              "    <tr>\n",
              "      <th>2</th>\n",
              "      <td>9.0</td>\n",
              "      <td>2633.040665</td>\n",
              "      <td>2287.478624</td>\n",
              "      <td>1771.287629</td>\n",
              "      <td>309.794359</td>\n",
              "      <td>27.582506</td>\n",
              "      <td>16.000324</td>\n",
              "      <td>232.307107</td>\n",
              "      <td>206.486298</td>\n",
              "      <td>125.184790</td>\n",
              "      <td>152.257094</td>\n",
              "      <td>98.886227</td>\n",
              "      <td>46.281465</td>\n",
              "      <td>147.103274</td>\n",
              "      <td>257.058691</td>\n",
              "      <td>50.178313</td>\n",
              "      <td>174.418496</td>\n",
              "      <td>155.130589</td>\n",
              "      <td>256.105450</td>\n",
              "      <td>209.535137</td>\n",
              "      <td>69.393794</td>\n",
              "      <td>198.736685</td>\n",
              "      <td>120.136660</td>\n",
              "      <td>104.012231</td>\n",
              "      <td>95.475844</td>\n",
              "      <td>81.749224</td>\n",
              "      <td>34.524361</td>\n",
              "      <td>62.958989</td>\n",
              "      <td>31.259697</td>\n",
              "      <td>138.596013</td>\n",
              "      <td>225.012448</td>\n",
              "      <td>32.013311</td>\n",
              "      <td>145.028081</td>\n",
              "      <td>17.107261</td>\n",
              "      <td>84.099332</td>\n",
              "      <td>40.147784</td>\n",
              "      <td>13.720291</td>\n",
              "      <td>202.183254</td>\n",
              "      <td>109.031575</td>\n",
              "      <td>43.801175</td>\n",
              "      <td>22.337481</td>\n",
              "      <td>108.106247</td>\n",
              "      <td>2.221497</td>\n",
              "      <td>152.772591</td>\n",
              "      <td>111.418959</td>\n",
              "      <td>78.005532</td>\n",
              "      <td>64.694415</td>\n",
              "      <td>76.465589</td>\n",
              "      <td>153.944915</td>\n",
              "      <td>110.573626</td>\n",
              "      <td>0.0</td>\n",
              "    </tr>\n",
              "    <tr>\n",
              "      <th>3</th>\n",
              "      <td>23921.0</td>\n",
              "      <td>62.654756</td>\n",
              "      <td>17416.921433</td>\n",
              "      <td>7584.957042</td>\n",
              "      <td>5884.416924</td>\n",
              "      <td>7660.819742</td>\n",
              "      <td>1691.052505</td>\n",
              "      <td>3812.562625</td>\n",
              "      <td>5568.151603</td>\n",
              "      <td>1894.201292</td>\n",
              "      <td>2930.546661</td>\n",
              "      <td>4780.962983</td>\n",
              "      <td>327.071449</td>\n",
              "      <td>2085.256466</td>\n",
              "      <td>4208.939402</td>\n",
              "      <td>10.418293</td>\n",
              "      <td>2579.309481</td>\n",
              "      <td>3243.220760</td>\n",
              "      <td>912.893550</td>\n",
              "      <td>2972.538699</td>\n",
              "      <td>3764.328739</td>\n",
              "      <td>538.898921</td>\n",
              "      <td>3935.692664</td>\n",
              "      <td>2946.758382</td>\n",
              "      <td>3219.685761</td>\n",
              "      <td>3894.709444</td>\n",
              "      <td>700.237741</td>\n",
              "      <td>2235.299310</td>\n",
              "      <td>1305.150529</td>\n",
              "      <td>574.976271</td>\n",
              "      <td>1133.542809</td>\n",
              "      <td>667.731893</td>\n",
              "      <td>266.653364</td>\n",
              "      <td>884.386928</td>\n",
              "      <td>338.255898</td>\n",
              "      <td>236.082640</td>\n",
              "      <td>256.875611</td>\n",
              "      <td>247.845801</td>\n",
              "      <td>276.307320</td>\n",
              "      <td>36.762043</td>\n",
              "      <td>1003.587508</td>\n",
              "      <td>227.326449</td>\n",
              "      <td>64.892863</td>\n",
              "      <td>370.455287</td>\n",
              "      <td>60.631254</td>\n",
              "      <td>69.714050</td>\n",
              "      <td>36.730689</td>\n",
              "      <td>21.678227</td>\n",
              "      <td>402.308457</td>\n",
              "      <td>121.494990</td>\n",
              "      <td>0.0</td>\n",
              "    </tr>\n",
              "    <tr>\n",
              "      <th>4</th>\n",
              "      <td>14331.0</td>\n",
              "      <td>1153.487951</td>\n",
              "      <td>1507.182014</td>\n",
              "      <td>2044.090180</td>\n",
              "      <td>675.768603</td>\n",
              "      <td>1504.214442</td>\n",
              "      <td>2202.288224</td>\n",
              "      <td>848.984841</td>\n",
              "      <td>192.509479</td>\n",
              "      <td>342.516210</td>\n",
              "      <td>437.686899</td>\n",
              "      <td>2054.270436</td>\n",
              "      <td>66.450985</td>\n",
              "      <td>1842.857993</td>\n",
              "      <td>2320.673891</td>\n",
              "      <td>538.639747</td>\n",
              "      <td>2.914161</td>\n",
              "      <td>633.164448</td>\n",
              "      <td>964.615875</td>\n",
              "      <td>827.186106</td>\n",
              "      <td>1324.550524</td>\n",
              "      <td>624.221720</td>\n",
              "      <td>184.796591</td>\n",
              "      <td>392.808706</td>\n",
              "      <td>380.285941</td>\n",
              "      <td>81.381966</td>\n",
              "      <td>19.187903</td>\n",
              "      <td>19.063897</td>\n",
              "      <td>50.332410</td>\n",
              "      <td>188.463464</td>\n",
              "      <td>181.792384</td>\n",
              "      <td>285.307528</td>\n",
              "      <td>425.252576</td>\n",
              "      <td>26.746195</td>\n",
              "      <td>306.611321</td>\n",
              "      <td>398.654630</td>\n",
              "      <td>670.452880</td>\n",
              "      <td>448.441175</td>\n",
              "      <td>652.861596</td>\n",
              "      <td>57.518421</td>\n",
              "      <td>308.385820</td>\n",
              "      <td>99.567114</td>\n",
              "      <td>271.335428</td>\n",
              "      <td>61.271220</td>\n",
              "      <td>69.750499</td>\n",
              "      <td>4.348115</td>\n",
              "      <td>122.276755</td>\n",
              "      <td>107.631919</td>\n",
              "      <td>196.238332</td>\n",
              "      <td>161.471383</td>\n",
              "      <td>0.0</td>\n",
              "    </tr>\n",
              "  </tbody>\n",
              "</table>\n",
              "</div>"
            ],
            "text/plain": [
              "         0            1             2  ...          48          49   50\n",
              "0   9590.0    11.300536     16.828072  ...    0.162637    0.812393  0.0\n",
              "1   9504.0   186.547966     48.161608  ...    9.416109    0.562300  0.0\n",
              "2      9.0  2633.040665   2287.478624  ...  153.944915  110.573626  0.0\n",
              "3  23921.0    62.654756  17416.921433  ...  402.308457  121.494990  0.0\n",
              "4  14331.0  1153.487951   1507.182014  ...  196.238332  161.471383  0.0\n",
              "\n",
              "[5 rows x 51 columns]"
            ]
          },
          "metadata": {},
          "execution_count": 3
        }
      ]
    },
    {
      "cell_type": "code",
      "metadata": {
        "colab": {
          "base_uri": "https://localhost:8080/"
        },
        "id": "XAIsxEzUp6NI",
        "outputId": "11999ab5-f0ea-45e6-9cc8-bd8078ea60e5"
      },
      "source": [
        "df['50'].value_counts()"
      ],
      "execution_count": 4,
      "outputs": [
        {
          "output_type": "execute_result",
          "data": {
            "text/plain": [
              "0.0    1225\n",
              "1.0    1219\n",
              "Name: 50, dtype: int64"
            ]
          },
          "metadata": {},
          "execution_count": 4
        }
      ]
    },
    {
      "cell_type": "code",
      "metadata": {
        "id": "YIvxrC9aqgyf"
      },
      "source": [
        "X = df.values[:,:]"
      ],
      "execution_count": 5,
      "outputs": []
    },
    {
      "cell_type": "code",
      "metadata": {
        "id": "fJc6-mflEDEa"
      },
      "source": [
        "values = X.astype('float32')\n",
        "# normalize features\n",
        "scaler = MinMaxScaler(feature_range=(0, 1))\n",
        "scaled = scaler.fit_transform(values)"
      ],
      "execution_count": 6,
      "outputs": []
    },
    {
      "cell_type": "code",
      "metadata": {
        "colab": {
          "base_uri": "https://localhost:8080/"
        },
        "id": "Au7Em5pwEN-4",
        "outputId": "34a11c36-9a74-4123-c4a9-8fc5560badd0"
      },
      "source": [
        "scaled"
      ],
      "execution_count": 9,
      "outputs": [
        {
          "output_type": "execute_result",
          "data": {
            "text/plain": [
              "array([[6.62192553e-02, 8.49035205e-05, 2.04859054e-04, ...,\n",
              "        3.11716503e-05, 1.22584737e-04, 0.00000000e+00],\n",
              "       [6.56248704e-02, 1.51989784e-03, 5.86547831e-04, ...,\n",
              "        3.08068655e-03, 8.43331727e-05, 0.00000000e+00],\n",
              "       [0.00000000e+00, 2.15527359e-02, 2.78647356e-02, ...,\n",
              "        5.07106744e-02, 1.69104617e-02, 0.00000000e+00],\n",
              "       ...,\n",
              "       [6.89009279e-02, 1.02757765e-02, 8.20820127e-03, ...,\n",
              "        6.14199378e-02, 3.59104089e-02, 1.00000000e+00],\n",
              "       [7.19350874e-02, 4.51065088e-03, 4.74975817e-03, ...,\n",
              "        3.59068178e-02, 1.77250188e-02, 1.00000000e+00],\n",
              "       [7.46582225e-02, 8.86805076e-03, 6.84299739e-03, ...,\n",
              "        1.39131486e-01, 8.37168545e-02, 1.00000000e+00]], dtype=float32)"
            ]
          },
          "metadata": {},
          "execution_count": 9
        }
      ]
    },
    {
      "cell_type": "code",
      "metadata": {
        "colab": {
          "base_uri": "https://localhost:8080/"
        },
        "id": "WInmjL-wAvKD",
        "outputId": "f84f8801-b81b-40dc-aab9-d3f30f3fdb58"
      },
      "source": [
        "from pandas import DataFrame\n",
        "from pandas import concat\n",
        "\n",
        "def series_to_supervised(data, n_in=1, n_out=1, dropnan=True):\n",
        "\t\"\"\"\n",
        "\tFrame a time series as a supervised learning dataset.\n",
        "\tArguments:\n",
        "\t\tdata: Sequence of observations as a list or NumPy array.\n",
        "\t\tn_in: Number of lag observations as input (X).\n",
        "\t\tn_out: Number of observations as output (y).\n",
        "\t\tdropnan: Boolean whether or not to drop rows with NaN values.\n",
        "\tReturns:\n",
        "\t\tPandas DataFrame of series framed for supervised learning.\n",
        "\t\"\"\"\n",
        "\tn_vars = 1 if type(data) is list else data.shape[1]\n",
        "\tdf = DataFrame(data)\n",
        "\tcols, names = list(), list()\n",
        "\t# input sequence (t-n, ... t-1)\n",
        "\tfor i in range(n_in, 0, -1):\n",
        "\t\tcols.append(df.shift(i))\n",
        "\t\tnames += [('var%d(t-%d)' % (j+1, i)) for j in range(n_vars)]\n",
        "\t# forecast sequence (t, t+1, ... t+n)\n",
        "\tfor i in range(0, n_out):\n",
        "\t\tcols.append(df.shift(-i))\n",
        "\t\tif i == 0:\n",
        "\t\t\tnames += [('var%d(t)' % (j+1)) for j in range(n_vars)]\n",
        "\t\telse:\n",
        "\t\t\tnames += [('var%d(t+%d)' % (j+1, i)) for j in range(n_vars)]\n",
        "\t# put it all together\n",
        "\tagg = concat(cols, axis=1)\n",
        "\tagg.columns = names\n",
        "\t# drop rows with NaN values\n",
        "\tif dropnan:\n",
        "\t\tagg.dropna(inplace=True)\n",
        "\treturn agg\n",
        "\n",
        "\n",
        "values = [x for x in range(10)]\n",
        "data = series_to_supervised(values, 10, 10)\n",
        "print(data)"
      ],
      "execution_count": 7,
      "outputs": [
        {
          "output_type": "stream",
          "name": "stdout",
          "text": [
            "Empty DataFrame\n",
            "Columns: [var1(t-10), var1(t-9), var1(t-8), var1(t-7), var1(t-6), var1(t-5), var1(t-4), var1(t-3), var1(t-2), var1(t-1), var1(t), var1(t+1), var1(t+2), var1(t+3), var1(t+4), var1(t+5), var1(t+6), var1(t+7), var1(t+8), var1(t+9)]\n",
            "Index: []\n"
          ]
        }
      ]
    },
    {
      "cell_type": "code",
      "metadata": {
        "colab": {
          "base_uri": "https://localhost:8080/"
        },
        "id": "A02OYqkyA-kL",
        "outputId": "0e6bed4a-2ba8-4740-cc0e-5636ea197b8c"
      },
      "source": [
        "data = series_to_supervised(scaled, 10, 10)\n",
        "print(data)"
      ],
      "execution_count": 8,
      "outputs": [
        {
          "output_type": "stream",
          "name": "stdout",
          "text": [
            "      var1(t-10)  var2(t-10)  var3(t-10)  ...  var49(t+9)  var50(t+9)  var51(t+9)\n",
            "10      0.066219    0.000085    0.000205  ...    0.015572    0.011699         0.0\n",
            "11      0.065625    0.001520    0.000587  ...    0.012754    0.053321         0.0\n",
            "12      0.000000    0.021553    0.027865  ...    0.147479    0.011699         0.0\n",
            "13      0.165268    0.000505    0.212164  ...    0.032735    0.033525         0.0\n",
            "14      0.098987    0.009438    0.018360  ...    0.138963    0.003669         0.0\n",
            "...          ...         ...         ...  ...         ...         ...         ...\n",
            "2430    0.072053    0.001562    0.012615  ...    0.032911    0.020341         1.0\n",
            "2431    0.072958    0.001064    0.006055  ...    0.053832    0.028842         1.0\n",
            "2432    0.058071    0.050853    0.034245  ...    0.061420    0.035910         1.0\n",
            "2433    0.081397    0.015204    0.021651  ...    0.035907    0.017725         1.0\n",
            "2434    0.073020    0.004710    0.001726  ...    0.139131    0.083717         1.0\n",
            "\n",
            "[2425 rows x 1020 columns]\n"
          ]
        }
      ]
    },
    {
      "cell_type": "code",
      "metadata": {
        "colab": {
          "base_uri": "https://localhost:8080/"
        },
        "id": "BgxDu8-SBffZ",
        "outputId": "f435a2eb-55ce-4805-b05d-8398e28aa7b5"
      },
      "source": [
        "# split into train and test sets\n",
        "values = data.values\n",
        "n_train_hours = 1250\n",
        "limit = 500\n",
        "#train1 = values[:n_train_hours, :]\n",
        "#train2 = values[n_train_hours+limit:,:]\n",
        "#train = np.concatenate((train1,train2))\n",
        "train = values[:,:]\n",
        "test = values[n_train_hours:n_train_hours+limit, :]\n",
        "# split into input and outputs\n",
        "train_X, train_y = train[:, :-1], train[:, -1]\n",
        "test_X, test_y = test[:, :-1], test[:, -1]\n",
        "# reshape input to be 3D [samples, timesteps, features]\n",
        "train_X = train_X.reshape((train_X.shape[0], 1, train_X.shape[1]))\n",
        "test_X = test_X.reshape((test_X.shape[0], 1, test_X.shape[1]))\n",
        "print(train_X.shape, train_y.shape, test_X.shape, test_y.shape)"
      ],
      "execution_count": 9,
      "outputs": [
        {
          "output_type": "stream",
          "name": "stdout",
          "text": [
            "(2425, 1, 1019) (2425,) (500, 1, 1019) (500,)\n"
          ]
        }
      ]
    },
    {
      "cell_type": "code",
      "metadata": {
        "colab": {
          "base_uri": "https://localhost:8080/",
          "height": 1000
        },
        "id": "P8WS_B3RCESD",
        "outputId": "48f73793-bee0-4e94-d80b-9c6f4925552c"
      },
      "source": [
        "from matplotlib import pyplot\n",
        "# design network\n",
        "model = Sequential()\n",
        "model.add(LSTM(50, input_shape=(train_X.shape[1], train_X.shape[2]),return_sequences=True,activation='relu'))\n",
        "model.add(BatchNormalization())\n",
        "model.add(LSTM(25, activation=\"relu\"))\n",
        "model.add(Dense(128,activation='relu'))\n",
        "model.add(Dropout(0.2))\n",
        "model.add(Dense(32,activation='relu'))\n",
        "model.add(Dense(1,activation='sigmoid'))\n",
        "model.compile(loss='binary_crossentropy', optimizer='adam',metrics=['accuracy'])\n",
        "# fit network\n",
        "history = model.fit(train_X, train_y, epochs=25, shuffle=False)\n",
        "# plot history\n",
        "pyplot.plot(history.history['accuracy'], label='train')\n",
        "pyplot.legend()\n",
        "pyplot.show()"
      ],
      "execution_count": 11,
      "outputs": [
        {
          "output_type": "stream",
          "name": "stdout",
          "text": [
            "Epoch 1/25\n",
            "76/76 [==============================] - 3s 5ms/step - loss: 0.9809 - accuracy: 0.4878\n",
            "Epoch 2/25\n",
            "76/76 [==============================] - 0s 5ms/step - loss: 0.6902 - accuracy: 0.5175\n",
            "Epoch 3/25\n",
            "76/76 [==============================] - 0s 5ms/step - loss: 0.6560 - accuracy: 0.6235\n",
            "Epoch 4/25\n",
            "76/76 [==============================] - 0s 5ms/step - loss: 0.5800 - accuracy: 0.7571\n",
            "Epoch 5/25\n",
            "76/76 [==============================] - 0s 5ms/step - loss: 0.4587 - accuracy: 0.8953\n",
            "Epoch 6/25\n",
            "76/76 [==============================] - 0s 5ms/step - loss: 0.3839 - accuracy: 0.9551\n",
            "Epoch 7/25\n",
            "76/76 [==============================] - 0s 5ms/step - loss: 0.3035 - accuracy: 0.9880\n",
            "Epoch 8/25\n",
            "76/76 [==============================] - 0s 5ms/step - loss: 0.1059 - accuracy: 0.9996\n",
            "Epoch 9/25\n",
            "76/76 [==============================] - 0s 5ms/step - loss: 0.0127 - accuracy: 0.9996\n",
            "Epoch 10/25\n",
            "76/76 [==============================] - 0s 5ms/step - loss: 0.0061 - accuracy: 0.9996\n",
            "Epoch 11/25\n",
            "76/76 [==============================] - 0s 5ms/step - loss: 0.0015 - accuracy: 1.0000\n",
            "Epoch 12/25\n",
            "76/76 [==============================] - 0s 5ms/step - loss: 8.9772e-04 - accuracy: 1.0000\n",
            "Epoch 13/25\n",
            "76/76 [==============================] - 0s 5ms/step - loss: 5.9328e-04 - accuracy: 1.0000\n",
            "Epoch 14/25\n",
            "76/76 [==============================] - 0s 6ms/step - loss: 4.4501e-04 - accuracy: 1.0000\n",
            "Epoch 15/25\n",
            "76/76 [==============================] - 0s 5ms/step - loss: 3.3487e-04 - accuracy: 1.0000\n",
            "Epoch 16/25\n",
            "76/76 [==============================] - 0s 5ms/step - loss: 2.8013e-04 - accuracy: 1.0000\n",
            "Epoch 17/25\n",
            "76/76 [==============================] - 0s 5ms/step - loss: 2.2978e-04 - accuracy: 1.0000\n",
            "Epoch 18/25\n",
            "76/76 [==============================] - 0s 5ms/step - loss: 1.8709e-04 - accuracy: 1.0000\n",
            "Epoch 19/25\n",
            "76/76 [==============================] - 0s 5ms/step - loss: 1.4980e-04 - accuracy: 1.0000\n",
            "Epoch 20/25\n",
            "76/76 [==============================] - 0s 5ms/step - loss: 1.3837e-04 - accuracy: 1.0000\n",
            "Epoch 21/25\n",
            "76/76 [==============================] - 0s 5ms/step - loss: 1.1915e-04 - accuracy: 1.0000\n",
            "Epoch 22/25\n",
            "76/76 [==============================] - 0s 5ms/step - loss: 1.0259e-04 - accuracy: 1.0000\n",
            "Epoch 23/25\n",
            "76/76 [==============================] - 0s 5ms/step - loss: 9.8327e-05 - accuracy: 1.0000\n",
            "Epoch 24/25\n",
            "76/76 [==============================] - 0s 5ms/step - loss: 8.0338e-05 - accuracy: 1.0000\n",
            "Epoch 25/25\n",
            "76/76 [==============================] - 0s 5ms/step - loss: 6.8942e-05 - accuracy: 1.0000\n"
          ]
        },
        {
          "output_type": "display_data",
          "data": {
            "image/png": "[encoded data removed]",
            "text/plain": [
              "<Figure size 432x288 with 1 Axes>"
            ]
          },
          "metadata": {
            "needs_background": "light"
          }
        }
      ]
    },
    {
      "cell_type": "code",
      "metadata": {
        "colab": {
          "base_uri": "https://localhost:8080/"
        },
        "id": "GH9Ys8EA2I1d",
        "outputId": "50db19e3-34bd-4290-b0ad-65d013638383"
      },
      "source": [
        "model.summary()"
      ],
      "execution_count": 22,
      "outputs": [
        {
          "output_type": "stream",
          "name": "stdout",
          "text": [
            "Model: \"sequential_1\"\n",
            "_________________________________________________________________\n",
            "Layer (type)                 Output Shape              Param #   \n",
            "=================================================================\n",
            "lstm_2 (LSTM)                (None, 1, 50)             214000    \n",
            "_________________________________________________________________\n",
            "batch_normalization_1 (Batch (None, 1, 50)             200       \n",
            "_________________________________________________________________\n",
            "lstm_3 (LSTM)                (None, 25)                7600      \n",
            "_________________________________________________________________\n",
            "dense_3 (Dense)              (None, 128)               3328      \n",
            "_________________________________________________________________\n",
            "dropout_1 (Dropout)          (None, 128)               0         \n",
            "_________________________________________________________________\n",
            "dense_4 (Dense)              (None, 32)                4128      \n",
            "_________________________________________________________________\n",
            "dense_5 (Dense)              (None, 1)                 33        \n",
            "=================================================================\n",
            "Total params: 229,289\n",
            "Trainable params: 229,189\n",
            "Non-trainable params: 100\n",
            "_________________________________________________________________\n"
          ]
        }
      ]
    },
    {
      "cell_type": "code",
      "metadata": {
        "colab": {
          "base_uri": "https://localhost:8080/",
          "height": 545
        },
        "id": "tA590Sxr1pNc",
        "outputId": "2f18ae93-6b73-4f9f-add7-9ab05615411d"
      },
      "source": [
        "import matplotlib.pyplot as plt\n",
        "acc = history.history['accuracy']\n",
        "loss = history.history['loss']\n",
        "\n",
        "epochs = range(len(acc))\n",
        "\n",
        "plt.plot(epochs, acc, 'r', label='Training accuracy')\n",
        "plt.title('Training and validation accuracy')\n",
        "plt.legend()\n",
        "plt.figure()\n",
        "\n",
        "plt.plot(epochs, loss, 'r', label='Training Loss')\n",
        "plt.title('Training and validation loss')\n",
        "plt.legend()\n",
        "\n",
        "plt.show()"
      ],
      "execution_count": 21,
      "outputs": [
        {
          "output_type": "display_data",
          "data": {
            "image/png": "[encoded data removed]",
            "text/plain": [
              "<Figure size 432x288 with 1 Axes>"
            ]
          },
          "metadata": {
            "needs_background": "light"
          }
        },
        {
          "output_type": "display_data",
          "data": {
            "image/png": "[encoded data removed]",
            "text/plain": [
              "<Figure size 432x288 with 1 Axes>"
            ]
          },
          "metadata": {
            "needs_background": "light"
          }
        }
      ]
    },
    {
      "cell_type": "code",
      "metadata": {
        "colab": {
          "base_uri": "https://localhost:8080/",
          "height": 224
        },
        "id": "ufUk3YHGY0SK",
        "outputId": "20a5c1db-36a2-4c20-db24-5721aae974ef"
      },
      "source": [
        "df_t = pd.read_csv(\"/content/drive/MyDrive/TEST_STUDY.csv\")\n",
        "df_t = df_t.iloc[:,1:]\n",
        "df_t.head()"
      ],
      "execution_count": 12,
      "outputs": [
        {
          "output_type": "execute_result",
          "data": {
            "text/html": [
              "<div>\n",
              "<style scoped>\n",
              "    .dataframe tbody tr th:only-of-type {\n",
              "        vertical-align: middle;\n",
              "    }\n",
              "\n",
              "    .dataframe tbody tr th {\n",
              "        vertical-align: top;\n",
              "    }\n",
              "\n",
              "    .dataframe thead th {\n",
              "        text-align: right;\n",
              "    }\n",
              "</style>\n",
              "<table border=\"1\" class=\"dataframe\">\n",
              "  <thead>\n",
              "    <tr style=\"text-align: right;\">\n",
              "      <th></th>\n",
              "      <th>0</th>\n",
              "      <th>1</th>\n",
              "      <th>2</th>\n",
              "      <th>3</th>\n",
              "      <th>4</th>\n",
              "      <th>5</th>\n",
              "      <th>6</th>\n",
              "      <th>7</th>\n",
              "      <th>8</th>\n",
              "      <th>9</th>\n",
              "      <th>10</th>\n",
              "      <th>11</th>\n",
              "      <th>12</th>\n",
              "      <th>13</th>\n",
              "      <th>14</th>\n",
              "      <th>15</th>\n",
              "      <th>16</th>\n",
              "      <th>17</th>\n",
              "      <th>18</th>\n",
              "      <th>19</th>\n",
              "      <th>20</th>\n",
              "      <th>21</th>\n",
              "      <th>22</th>\n",
              "      <th>23</th>\n",
              "      <th>24</th>\n",
              "      <th>25</th>\n",
              "      <th>26</th>\n",
              "      <th>27</th>\n",
              "      <th>28</th>\n",
              "      <th>29</th>\n",
              "      <th>30</th>\n",
              "      <th>31</th>\n",
              "      <th>32</th>\n",
              "      <th>33</th>\n",
              "      <th>34</th>\n",
              "      <th>35</th>\n",
              "      <th>36</th>\n",
              "      <th>37</th>\n",
              "      <th>38</th>\n",
              "      <th>39</th>\n",
              "      <th>40</th>\n",
              "      <th>41</th>\n",
              "      <th>42</th>\n",
              "      <th>43</th>\n",
              "      <th>44</th>\n",
              "      <th>45</th>\n",
              "      <th>46</th>\n",
              "      <th>47</th>\n",
              "      <th>48</th>\n",
              "      <th>49</th>\n",
              "      <th>50</th>\n",
              "    </tr>\n",
              "  </thead>\n",
              "  <tbody>\n",
              "    <tr>\n",
              "      <th>0</th>\n",
              "      <td>8968.0</td>\n",
              "      <td>1207.801586</td>\n",
              "      <td>1144.372342</td>\n",
              "      <td>1167.696396</td>\n",
              "      <td>484.791658</td>\n",
              "      <td>996.573137</td>\n",
              "      <td>169.372779</td>\n",
              "      <td>538.081093</td>\n",
              "      <td>875.782194</td>\n",
              "      <td>1437.664256</td>\n",
              "      <td>633.114039</td>\n",
              "      <td>1081.997885</td>\n",
              "      <td>1325.986383</td>\n",
              "      <td>624.119698</td>\n",
              "      <td>584.768840</td>\n",
              "      <td>985.868992</td>\n",
              "      <td>696.445757</td>\n",
              "      <td>256.130008</td>\n",
              "      <td>35.538209</td>\n",
              "      <td>130.839060</td>\n",
              "      <td>305.372783</td>\n",
              "      <td>197.570986</td>\n",
              "      <td>429.288183</td>\n",
              "      <td>432.438786</td>\n",
              "      <td>243.236401</td>\n",
              "      <td>656.552029</td>\n",
              "      <td>91.243562</td>\n",
              "      <td>53.132357</td>\n",
              "      <td>62.894885</td>\n",
              "      <td>162.278128</td>\n",
              "      <td>419.825361</td>\n",
              "      <td>144.638459</td>\n",
              "      <td>3.659605</td>\n",
              "      <td>60.560345</td>\n",
              "      <td>241.752692</td>\n",
              "      <td>220.697300</td>\n",
              "      <td>360.469444</td>\n",
              "      <td>450.554658</td>\n",
              "      <td>314.350905</td>\n",
              "      <td>80.324658</td>\n",
              "      <td>257.458923</td>\n",
              "      <td>18.971722</td>\n",
              "      <td>577.436166</td>\n",
              "      <td>255.602694</td>\n",
              "      <td>210.285614</td>\n",
              "      <td>559.120091</td>\n",
              "      <td>11.620255</td>\n",
              "      <td>479.786596</td>\n",
              "      <td>534.699027</td>\n",
              "      <td>146.783978</td>\n",
              "      <td>0.0</td>\n",
              "    </tr>\n",
              "    <tr>\n",
              "      <th>1</th>\n",
              "      <td>1265.0</td>\n",
              "      <td>5115.239108</td>\n",
              "      <td>9076.057154</td>\n",
              "      <td>1253.971902</td>\n",
              "      <td>7504.754727</td>\n",
              "      <td>255.974364</td>\n",
              "      <td>2366.869754</td>\n",
              "      <td>1536.018051</td>\n",
              "      <td>1657.920606</td>\n",
              "      <td>1234.247103</td>\n",
              "      <td>306.324244</td>\n",
              "      <td>70.497756</td>\n",
              "      <td>14.380554</td>\n",
              "      <td>620.340114</td>\n",
              "      <td>84.442817</td>\n",
              "      <td>120.148724</td>\n",
              "      <td>141.306402</td>\n",
              "      <td>165.430119</td>\n",
              "      <td>839.125953</td>\n",
              "      <td>417.458288</td>\n",
              "      <td>201.000191</td>\n",
              "      <td>117.306720</td>\n",
              "      <td>365.912045</td>\n",
              "      <td>238.337020</td>\n",
              "      <td>213.125102</td>\n",
              "      <td>465.815002</td>\n",
              "      <td>16.322970</td>\n",
              "      <td>143.266430</td>\n",
              "      <td>145.273956</td>\n",
              "      <td>275.915392</td>\n",
              "      <td>69.199740</td>\n",
              "      <td>478.100521</td>\n",
              "      <td>631.710257</td>\n",
              "      <td>247.224565</td>\n",
              "      <td>1059.081842</td>\n",
              "      <td>38.273415</td>\n",
              "      <td>481.354455</td>\n",
              "      <td>117.952091</td>\n",
              "      <td>55.734286</td>\n",
              "      <td>206.875578</td>\n",
              "      <td>310.347777</td>\n",
              "      <td>160.116815</td>\n",
              "      <td>124.707477</td>\n",
              "      <td>149.704785</td>\n",
              "      <td>308.148952</td>\n",
              "      <td>238.712667</td>\n",
              "      <td>22.406603</td>\n",
              "      <td>248.432822</td>\n",
              "      <td>104.648568</td>\n",
              "      <td>76.705248</td>\n",
              "      <td>0.0</td>\n",
              "    </tr>\n",
              "    <tr>\n",
              "      <th>2</th>\n",
              "      <td>2142.0</td>\n",
              "      <td>22397.623280</td>\n",
              "      <td>22404.365524</td>\n",
              "      <td>7434.827897</td>\n",
              "      <td>5542.395020</td>\n",
              "      <td>890.982780</td>\n",
              "      <td>1673.368410</td>\n",
              "      <td>944.410582</td>\n",
              "      <td>1120.780031</td>\n",
              "      <td>585.871299</td>\n",
              "      <td>613.921615</td>\n",
              "      <td>1094.758718</td>\n",
              "      <td>81.787310</td>\n",
              "      <td>204.813750</td>\n",
              "      <td>380.823353</td>\n",
              "      <td>69.220341</td>\n",
              "      <td>142.820645</td>\n",
              "      <td>249.608361</td>\n",
              "      <td>0.471641</td>\n",
              "      <td>305.791824</td>\n",
              "      <td>96.279323</td>\n",
              "      <td>280.034775</td>\n",
              "      <td>276.901751</td>\n",
              "      <td>279.644262</td>\n",
              "      <td>273.003621</td>\n",
              "      <td>180.573909</td>\n",
              "      <td>117.097447</td>\n",
              "      <td>211.712934</td>\n",
              "      <td>169.576472</td>\n",
              "      <td>87.277049</td>\n",
              "      <td>253.755579</td>\n",
              "      <td>134.216779</td>\n",
              "      <td>10.169852</td>\n",
              "      <td>233.416208</td>\n",
              "      <td>181.290095</td>\n",
              "      <td>237.977567</td>\n",
              "      <td>897.499489</td>\n",
              "      <td>335.250073</td>\n",
              "      <td>46.952932</td>\n",
              "      <td>71.978998</td>\n",
              "      <td>17.606133</td>\n",
              "      <td>40.417956</td>\n",
              "      <td>16.027326</td>\n",
              "      <td>126.738032</td>\n",
              "      <td>53.577273</td>\n",
              "      <td>91.038732</td>\n",
              "      <td>305.847764</td>\n",
              "      <td>198.372634</td>\n",
              "      <td>253.796776</td>\n",
              "      <td>416.384827</td>\n",
              "      <td>0.0</td>\n",
              "    </tr>\n",
              "    <tr>\n",
              "      <th>3</th>\n",
              "      <td>17818.0</td>\n",
              "      <td>1513.459077</td>\n",
              "      <td>314.971243</td>\n",
              "      <td>1589.402312</td>\n",
              "      <td>56.591281</td>\n",
              "      <td>32.680222</td>\n",
              "      <td>333.697609</td>\n",
              "      <td>437.408178</td>\n",
              "      <td>590.974214</td>\n",
              "      <td>330.217497</td>\n",
              "      <td>1261.217507</td>\n",
              "      <td>461.445058</td>\n",
              "      <td>1317.586484</td>\n",
              "      <td>243.059812</td>\n",
              "      <td>126.685042</td>\n",
              "      <td>89.742820</td>\n",
              "      <td>159.395779</td>\n",
              "      <td>308.595234</td>\n",
              "      <td>85.361145</td>\n",
              "      <td>307.214017</td>\n",
              "      <td>162.024169</td>\n",
              "      <td>340.915282</td>\n",
              "      <td>257.207027</td>\n",
              "      <td>230.042113</td>\n",
              "      <td>41.307146</td>\n",
              "      <td>211.910790</td>\n",
              "      <td>476.008232</td>\n",
              "      <td>167.706238</td>\n",
              "      <td>48.133863</td>\n",
              "      <td>236.815677</td>\n",
              "      <td>102.039812</td>\n",
              "      <td>37.445307</td>\n",
              "      <td>68.490296</td>\n",
              "      <td>62.763694</td>\n",
              "      <td>7.844947</td>\n",
              "      <td>491.300194</td>\n",
              "      <td>130.054193</td>\n",
              "      <td>32.499900</td>\n",
              "      <td>483.526586</td>\n",
              "      <td>124.769486</td>\n",
              "      <td>164.492115</td>\n",
              "      <td>199.283928</td>\n",
              "      <td>196.257390</td>\n",
              "      <td>81.079489</td>\n",
              "      <td>39.513172</td>\n",
              "      <td>202.147789</td>\n",
              "      <td>234.336833</td>\n",
              "      <td>35.479670</td>\n",
              "      <td>21.447272</td>\n",
              "      <td>211.195716</td>\n",
              "      <td>0.0</td>\n",
              "    </tr>\n",
              "    <tr>\n",
              "      <th>4</th>\n",
              "      <td>10758.0</td>\n",
              "      <td>3791.081595</td>\n",
              "      <td>2654.771859</td>\n",
              "      <td>1012.308239</td>\n",
              "      <td>778.173882</td>\n",
              "      <td>664.358878</td>\n",
              "      <td>174.948400</td>\n",
              "      <td>280.174874</td>\n",
              "      <td>820.977122</td>\n",
              "      <td>818.033219</td>\n",
              "      <td>53.236207</td>\n",
              "      <td>217.220310</td>\n",
              "      <td>265.849447</td>\n",
              "      <td>467.726089</td>\n",
              "      <td>102.290721</td>\n",
              "      <td>137.139090</td>\n",
              "      <td>119.973497</td>\n",
              "      <td>477.415080</td>\n",
              "      <td>460.628694</td>\n",
              "      <td>78.508006</td>\n",
              "      <td>639.489826</td>\n",
              "      <td>218.152687</td>\n",
              "      <td>239.914177</td>\n",
              "      <td>146.397493</td>\n",
              "      <td>50.654724</td>\n",
              "      <td>31.343459</td>\n",
              "      <td>333.272866</td>\n",
              "      <td>534.706202</td>\n",
              "      <td>73.573066</td>\n",
              "      <td>396.175457</td>\n",
              "      <td>335.001854</td>\n",
              "      <td>352.037625</td>\n",
              "      <td>186.170542</td>\n",
              "      <td>279.411589</td>\n",
              "      <td>431.872984</td>\n",
              "      <td>544.741790</td>\n",
              "      <td>469.794287</td>\n",
              "      <td>643.100657</td>\n",
              "      <td>725.645328</td>\n",
              "      <td>635.313793</td>\n",
              "      <td>340.865362</td>\n",
              "      <td>25.434210</td>\n",
              "      <td>405.978408</td>\n",
              "      <td>118.860179</td>\n",
              "      <td>216.401121</td>\n",
              "      <td>429.550937</td>\n",
              "      <td>222.115829</td>\n",
              "      <td>93.532373</td>\n",
              "      <td>455.160643</td>\n",
              "      <td>364.997864</td>\n",
              "      <td>0.0</td>\n",
              "    </tr>\n",
              "  </tbody>\n",
              "</table>\n",
              "</div>"
            ],
            "text/plain": [
              "         0             1             2  ...          48          49   50\n",
              "0   8968.0   1207.801586   1144.372342  ...  534.699027  146.783978  0.0\n",
              "1   1265.0   5115.239108   9076.057154  ...  104.648568   76.705248  0.0\n",
              "2   2142.0  22397.623280  22404.365524  ...  253.796776  416.384827  0.0\n",
              "3  17818.0   1513.459077    314.971243  ...   21.447272  211.195716  0.0\n",
              "4  10758.0   3791.081595   2654.771859  ...  455.160643  364.997864  0.0\n",
              "\n",
              "[5 rows x 51 columns]"
            ]
          },
          "metadata": {},
          "execution_count": 12
        }
      ]
    },
    {
      "cell_type": "code",
      "metadata": {
        "id": "eaqK50-6ZJ3p"
      },
      "source": [
        "X_test = df_t.values[:,:]"
      ],
      "execution_count": 13,
      "outputs": []
    },
    {
      "cell_type": "code",
      "metadata": {
        "id": "MjTSLW6Danpg"
      },
      "source": [
        "values = X_test.astype('float32')\n",
        "scaler = MinMaxScaler(feature_range=(0, 1))\n",
        "scaled_TEST = scaler.fit_transform(values)"
      ],
      "execution_count": 14,
      "outputs": []
    },
    {
      "cell_type": "code",
      "metadata": {
        "id": "kVGJ3_KGOdQ4"
      },
      "source": [
        "scaled_TEST[:,-1] = 0"
      ],
      "execution_count": 15,
      "outputs": []
    },
    {
      "cell_type": "code",
      "metadata": {
        "colab": {
          "base_uri": "https://localhost:8080/"
        },
        "id": "caWZlJOhZZGI",
        "outputId": "0e1cc4ae-3784-435c-f494-9071e304e2ea"
      },
      "source": [
        "scaled_TEST.shape\n"
      ],
      "execution_count": 16,
      "outputs": [
        {
          "output_type": "execute_result",
          "data": {
            "text/plain": [
              "(855, 51)"
            ]
          },
          "metadata": {},
          "execution_count": 16
        }
      ]
    },
    {
      "cell_type": "code",
      "metadata": {
        "colab": {
          "base_uri": "https://localhost:8080/"
        },
        "id": "2fFTHHk4Zdkt",
        "outputId": "a164bccf-51d5-414a-95ba-94edd3939d69"
      },
      "source": [
        "data_TEST = series_to_supervised(scaled_TEST, 10, 10)\n",
        "print(data_TEST)"
      ],
      "execution_count": 17,
      "outputs": [
        {
          "output_type": "stream",
          "name": "stdout",
          "text": [
            "     var1(t-10)  var2(t-10)  var3(t-10)  ...  var49(t+9)  var50(t+9)  var51(t+9)\n",
            "10     0.379160    0.053862    0.051054  ...    0.448554    0.074396         0.0\n",
            "11     0.043605    0.228332    0.405087  ...    0.114089    0.228679         0.0\n",
            "12     0.081809    1.000000    1.000000  ...    0.118670    0.307766         0.0\n",
            "13     0.764680    0.067510    0.014034  ...    0.101610    0.338134         0.0\n",
            "14     0.457135    0.169207    0.118472  ...    0.004671    0.008577         0.0\n",
            "..          ...         ...         ...  ...         ...         ...         ...\n",
            "841    0.481051    0.080378    0.085559  ...    0.030303    0.325690         0.0\n",
            "842    0.444023    0.002501    0.130967  ...    0.106229    0.266502         0.0\n",
            "843    0.442586    0.011220    0.086304  ...    0.109523    0.384003         0.0\n",
            "844    0.449076    0.056347    0.053143  ...    0.259119    0.127331         0.0\n",
            "845    0.425640    0.005725    0.006807  ...    0.110799    0.297325         0.0\n",
            "\n",
            "[836 rows x 1020 columns]\n"
          ]
        }
      ]
    },
    {
      "cell_type": "code",
      "metadata": {
        "id": "UCUFgZHnZtXC"
      },
      "source": [
        "test_X, test_y = data_TEST.values[:, :-1], data_TEST.values[:, -1]"
      ],
      "execution_count": 18,
      "outputs": []
    },
    {
      "cell_type": "code",
      "metadata": {
        "id": "51YFG1uOaCMQ"
      },
      "source": [
        "test_X = test_X.reshape((test_X.shape[0], 1, test_X.shape[1]))"
      ],
      "execution_count": 19,
      "outputs": []
    },
    {
      "cell_type": "code",
      "metadata": {
        "colab": {
          "base_uri": "https://localhost:8080/"
        },
        "id": "ItiRVIuvaEe7",
        "outputId": "803c4f2b-e33a-4d1e-a667-18da2253456c"
      },
      "source": [
        "print(model.evaluate(test_X,test_y))"
      ],
      "execution_count": 20,
      "outputs": [
        {
          "output_type": "stream",
          "name": "stdout",
          "text": [
            "27/27 [==============================] - 0s 2ms/step - loss: 0.2058 - accuracy: 0.9940\n",
            "[0.20578335225582123, 0.9940191507339478]\n"
          ]
        }
      ]
    }
  ]
}